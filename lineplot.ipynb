{
  "nbformat": 4,
  "nbformat_minor": 0,
  "metadata": {
    "colab": {
      "provenance": []
    },
    "kernelspec": {
      "name": "python3",
      "display_name": "Python 3"
    },
    "language_info": {
      "name": "python"
    }
  },
  "cells": [
    {
      "cell_type": "code",
      "source": [
        "!pip install dash"
      ],
      "metadata": {
        "colab": {
          "base_uri": "https://localhost:8080/"
        },
        "id": "217FfoiQG6VA",
        "outputId": "aec9f026-22cb-4258-b0da-85a871f1d852"
      },
      "execution_count": 19,
      "outputs": [
        {
          "output_type": "stream",
          "name": "stdout",
          "text": [
            "Requirement already satisfied: dash in /usr/local/lib/python3.10/dist-packages (2.18.1)\n",
            "Requirement already satisfied: Flask<3.1,>=1.0.4 in /usr/local/lib/python3.10/dist-packages (from dash) (2.2.5)\n",
            "Requirement already satisfied: Werkzeug<3.1 in /usr/local/lib/python3.10/dist-packages (from dash) (3.0.4)\n",
            "Requirement already satisfied: plotly>=5.0.0 in /usr/local/lib/python3.10/dist-packages (from dash) (5.24.1)\n",
            "Requirement already satisfied: dash-html-components==2.0.0 in /usr/local/lib/python3.10/dist-packages (from dash) (2.0.0)\n",
            "Requirement already satisfied: dash-core-components==2.0.0 in /usr/local/lib/python3.10/dist-packages (from dash) (2.0.0)\n",
            "Requirement already satisfied: dash-table==5.0.0 in /usr/local/lib/python3.10/dist-packages (from dash) (5.0.0)\n",
            "Requirement already satisfied: importlib-metadata in /usr/local/lib/python3.10/dist-packages (from dash) (8.5.0)\n",
            "Requirement already satisfied: typing-extensions>=4.1.1 in /usr/local/lib/python3.10/dist-packages (from dash) (4.12.2)\n",
            "Requirement already satisfied: requests in /usr/local/lib/python3.10/dist-packages (from dash) (2.32.3)\n",
            "Requirement already satisfied: retrying in /usr/local/lib/python3.10/dist-packages (from dash) (1.3.4)\n",
            "Requirement already satisfied: nest-asyncio in /usr/local/lib/python3.10/dist-packages (from dash) (1.6.0)\n",
            "Requirement already satisfied: setuptools in /usr/local/lib/python3.10/dist-packages (from dash) (71.0.4)\n",
            "Requirement already satisfied: Jinja2>=3.0 in /usr/local/lib/python3.10/dist-packages (from Flask<3.1,>=1.0.4->dash) (3.1.4)\n",
            "Requirement already satisfied: itsdangerous>=2.0 in /usr/local/lib/python3.10/dist-packages (from Flask<3.1,>=1.0.4->dash) (2.2.0)\n",
            "Requirement already satisfied: click>=8.0 in /usr/local/lib/python3.10/dist-packages (from Flask<3.1,>=1.0.4->dash) (8.1.7)\n",
            "Requirement already satisfied: tenacity>=6.2.0 in /usr/local/lib/python3.10/dist-packages (from plotly>=5.0.0->dash) (9.0.0)\n",
            "Requirement already satisfied: packaging in /usr/local/lib/python3.10/dist-packages (from plotly>=5.0.0->dash) (24.1)\n",
            "Requirement already satisfied: MarkupSafe>=2.1.1 in /usr/local/lib/python3.10/dist-packages (from Werkzeug<3.1->dash) (2.1.5)\n",
            "Requirement already satisfied: zipp>=3.20 in /usr/local/lib/python3.10/dist-packages (from importlib-metadata->dash) (3.20.2)\n",
            "Requirement already satisfied: charset-normalizer<4,>=2 in /usr/local/lib/python3.10/dist-packages (from requests->dash) (3.3.2)\n",
            "Requirement already satisfied: idna<4,>=2.5 in /usr/local/lib/python3.10/dist-packages (from requests->dash) (3.10)\n",
            "Requirement already satisfied: urllib3<3,>=1.21.1 in /usr/local/lib/python3.10/dist-packages (from requests->dash) (2.2.3)\n",
            "Requirement already satisfied: certifi>=2017.4.17 in /usr/local/lib/python3.10/dist-packages (from requests->dash) (2024.8.30)\n",
            "Requirement already satisfied: six>=1.7.0 in /usr/local/lib/python3.10/dist-packages (from retrying->dash) (1.16.0)\n"
          ]
        }
      ]
    },
    {
      "cell_type": "code",
      "source": [
        "import pandas as pd\n",
        "import plotly.express as px\n",
        "import dash\n",
        "import dash_core_components as dcc\n",
        "import dash_html_components as html\n",
        "from dash.dependencies import Input, Output"
      ],
      "metadata": {
        "id": "g9Q84zYAGkQT"
      },
      "execution_count": 20,
      "outputs": []
    },
    {
      "cell_type": "code",
      "source": [
        "app = dash.Dash(__name__)\n",
        "\n",
        "# ------------------------------------------------------------------------------\n",
        "# Import and clean data (importing csv into pandas)\n",
        "df = pd.read_csv(\"https://raw.githubusercontent.com/LubangaD/beesurveydashboard/refs/heads/main/Dataset/intro_bees.csv\")\n",
        "\n",
        "df = df.groupby(['State', 'ANSI', 'Affected by', 'Year', 'state_code'])[['Pct of Colonies Impacted']].mean()\n",
        "df.reset_index(inplace=True)\n",
        "print(df[:5])\n",
        "\n",
        "bee_killers = [\"Disease\", \"Other\", \"Pesticides\", \"Pests_excl_Varroa\", \"Unknown\", \"Varroa_mites\"]"
      ],
      "metadata": {
        "colab": {
          "base_uri": "https://localhost:8080/"
        },
        "id": "aavAC5LbGw9T",
        "outputId": "6d3d3989-2324-4644-ce35-060591f6ab51"
      },
      "execution_count": 21,
      "outputs": [
        {
          "output_type": "stream",
          "name": "stdout",
          "text": [
            "     State  ANSI Affected by  Year state_code  Pct of Colonies Impacted\n",
            "0  Alabama     1     Disease  2015         AL                      0.05\n",
            "1  Alabama     1     Disease  2016         AL                      1.20\n",
            "2  Alabama     1     Disease  2017         AL                      2.25\n",
            "3  Alabama     1     Disease  2018         AL                      1.30\n",
            "4  Alabama     1     Disease  2019         AL                      1.80\n"
          ]
        }
      ]
    },
    {
      "cell_type": "code",
      "execution_count": 22,
      "metadata": {
        "colab": {
          "base_uri": "https://localhost:8080/",
          "height": 672
        },
        "id": "TJInL71EGc2p",
        "outputId": "7e0c47f9-2eda-40e3-cb35-66458db2c318"
      },
      "outputs": [
        {
          "output_type": "display_data",
          "data": {
            "text/plain": [
              "<IPython.core.display.Javascript object>"
            ],
            "application/javascript": [
              "(async (port, path, width, height, cache, element) => {\n",
              "    if (!google.colab.kernel.accessAllowed && !cache) {\n",
              "      return;\n",
              "    }\n",
              "    element.appendChild(document.createTextNode(''));\n",
              "    const url = await google.colab.kernel.proxyPort(port, {cache});\n",
              "    const iframe = document.createElement('iframe');\n",
              "    iframe.src = new URL(path, url).toString();\n",
              "    iframe.height = height;\n",
              "    iframe.width = width;\n",
              "    iframe.style.border = 0;\n",
              "    iframe.allow = [\n",
              "        'accelerometer',\n",
              "        'autoplay',\n",
              "        'camera',\n",
              "        'clipboard-read',\n",
              "        'clipboard-write',\n",
              "        'gyroscope',\n",
              "        'magnetometer',\n",
              "        'microphone',\n",
              "        'serial',\n",
              "        'usb',\n",
              "        'xr-spatial-tracking',\n",
              "    ].join('; ');\n",
              "    element.appendChild(iframe);\n",
              "  })(8050, \"/\", \"100%\", 650, false, window.element)"
            ]
          },
          "metadata": {}
        }
      ],
      "source": [
        "# ------------------------------------------------------------------------------\n",
        "# App layout\n",
        "app.layout = html.Div([\n",
        "\n",
        "    html.H1(\"Web Application Dashboards with Dash\", style={'text-align': 'center'}),\n",
        "\n",
        "    dcc.Dropdown(id=\"slct_impact\",\n",
        "                 options=[{\"label\": x, \"value\":x} for x in bee_killers],\n",
        "                 value=\"Pesticides\",\n",
        "                 multi=False,\n",
        "                 style={'width': \"40%\"}\n",
        "                 ),\n",
        "\n",
        "    html.Div(id='output_container', children=[]),\n",
        "    html.Br(),\n",
        "\n",
        "    dcc.Graph(id='my_bee_map', figure={})\n",
        "\n",
        "])\n",
        "\n",
        "\n",
        "# ------------------------------------------------------------------------------\n",
        "# Connect the Plotly graphs with Dash Components\n",
        "@app.callback(\n",
        "    [Output(component_id='output_container', component_property='children'),\n",
        "     Output(component_id='my_bee_map', component_property='figure')],\n",
        "    [Input(component_id='slct_impact', component_property='value')]\n",
        ")\n",
        "def update_graph(option_slctd):\n",
        "    print(option_slctd)\n",
        "    print(type(option_slctd))\n",
        "\n",
        "    container = \"The bee-killer chosen by user was: {}\".format(option_slctd)\n",
        "\n",
        "    dff = df.copy()\n",
        "    dff = dff[dff[\"Affected by\"] == option_slctd]\n",
        "    dff = dff[(dff[\"State\"] == \"Idaho\") | (dff[\"State\"] == \"New York\") | (dff[\"State\"] == \"New Mexico\")]\n",
        "\n",
        "    fig = px.line(\n",
        "        data_frame=dff,\n",
        "        x='Year',\n",
        "        y='Pct of Colonies Impacted',\n",
        "        color='State',\n",
        "        template='plotly_dark'\n",
        "    )\n",
        "\n",
        "    return container, fig\n",
        "\n",
        "\n",
        "# ------------------------------------------------------------------------------\n",
        "# if __name__ == '__main__':\n",
        "app.run_server(debug=True, mode='external')"
      ]
    },
    {
      "cell_type": "code",
      "source": [],
      "metadata": {
        "id": "G1gn-JZsI1rl"
      },
      "execution_count": 22,
      "outputs": []
    }
  ]
}